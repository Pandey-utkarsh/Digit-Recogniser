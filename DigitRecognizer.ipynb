{
 "cells": [
  {
   "cell_type": "code",
   "execution_count": 1,
   "id": "2f6378ab",
   "metadata": {},
   "outputs": [
    {
     "name": "stderr",
     "output_type": "stream",
     "text": [
      "2022-07-29 17:16:49.201793: W tensorflow/stream_executor/platform/default/dso_loader.cc:64] Could not load dynamic library 'libcudart.so.11.0'; dlerror: libcudart.so.11.0: cannot open shared object file: No such file or directory\n",
      "2022-07-29 17:16:49.201824: I tensorflow/stream_executor/cuda/cudart_stub.cc:29] Ignore above cudart dlerror if you do not have a GPU set up on your machine.\n"
     ]
    }
   ],
   "source": [
    "import numpy as np\n",
    "import pandas as pd\n",
    "import tensorflow as tf"
   ]
  },
  {
   "cell_type": "code",
   "execution_count": 2,
   "id": "afc1f52f",
   "metadata": {},
   "outputs": [],
   "source": [
    "dftrain = pd.read_csv('Downloads/train.csv')\n",
    "arr1 = np.zeros((42000, 785))\n",
    "arr3 = np.zeros((42000, 784))\n",
    "Ytrain = np.zeros((42000, 10))\n",
    "Xtrain = np.zeros((42000, 28, 28, 1))\n",
    "arr1 = np.array(dftrain)\n",
    "arr2 = arr1[:, 1:]\n",
    "Xtrain = arr2.reshape((42000, 28, 28, 1))\n",
    "dftest = pd.read_csv('Downloads/test.csv')\n",
    "arr3 = np.array(dftest)\n",
    "Xtest = arr3.reshape((28000, 28, 28, 1))\n",
    "for i in range(42000):\n",
    "    Ytrain[i, arr1[i, 0]] = 1"
   ]
  },
  {
   "cell_type": "code",
   "execution_count": 12,
   "id": "b471b68a",
   "metadata": {},
   "outputs": [],
   "source": [
    "def DigitModel():\n",
    "    model = tf.keras.Sequential([\n",
    "        tf.keras.Input(shape = (28, 28, 1)),\n",
    "        tf.keras.layers.ZeroPadding2D(padding = 3),\n",
    "        tf.keras.layers.Conv2D(32, 3, strides = 1),\n",
    "        tf.keras.layers.Conv2D(64, 3, strides = 1),\n",
    "        tf.keras.layers.BatchNormalization(axis = 3),\n",
    "        tf.keras.layers.Dropout(0.5),\n",
    "        tf.keras.layers.ReLU(),\n",
    "        tf.keras.layers.MaxPool2D(),\n",
    "        tf.keras.layers.Flatten(),\n",
    "        tf.keras.layers.Dense(10, activation = 'softmax')\n",
    "    ])\n",
    "    return model"
   ]
  },
  {
   "cell_type": "code",
   "execution_count": 13,
   "id": "d0d4aaf6",
   "metadata": {},
   "outputs": [],
   "source": [
    "DigitRecogModel = DigitModel()\n",
    "DigitRecogModel.compile(optimizer = 'adam', loss = tf.keras.losses.CategoricalCrossentropy() , metrics = ['accuracy'])"
   ]
  },
  {
   "cell_type": "code",
   "execution_count": 14,
   "id": "340a4e88",
   "metadata": {},
   "outputs": [
    {
     "name": "stdout",
     "output_type": "stream",
     "text": [
      "Epoch 1/13\n",
      "657/657 [==============================] - 64s 97ms/step - loss: 0.3304 - accuracy: 0.9303\n",
      "Epoch 2/13\n",
      "657/657 [==============================] - 64s 97ms/step - loss: 0.1183 - accuracy: 0.9703\n",
      "Epoch 3/13\n",
      "657/657 [==============================] - 68s 103ms/step - loss: 0.0748 - accuracy: 0.9789\n",
      "Epoch 4/13\n",
      "657/657 [==============================] - 70s 106ms/step - loss: 0.0533 - accuracy: 0.9829\n",
      "Epoch 5/13\n",
      "657/657 [==============================] - 71s 108ms/step - loss: 0.0430 - accuracy: 0.9864\n",
      "Epoch 6/13\n",
      "657/657 [==============================] - 69s 105ms/step - loss: 0.0367 - accuracy: 0.9881\n",
      "Epoch 7/13\n",
      "657/657 [==============================] - 69s 105ms/step - loss: 0.0339 - accuracy: 0.9886\n",
      "Epoch 8/13\n",
      "657/657 [==============================] - 69s 106ms/step - loss: 0.0303 - accuracy: 0.9902\n",
      "Epoch 9/13\n",
      "657/657 [==============================] - 70s 106ms/step - loss: 0.0276 - accuracy: 0.9910\n",
      "Epoch 10/13\n",
      "657/657 [==============================] - 71s 108ms/step - loss: 0.0262 - accuracy: 0.9913\n",
      "Epoch 11/13\n",
      "657/657 [==============================] - 69s 105ms/step - loss: 0.0244 - accuracy: 0.9921\n",
      "Epoch 12/13\n",
      "657/657 [==============================] - 69s 106ms/step - loss: 0.0203 - accuracy: 0.9930\n",
      "Epoch 13/13\n",
      "657/657 [==============================] - 71s 108ms/step - loss: 0.0187 - accuracy: 0.9931\n"
     ]
    },
    {
     "data": {
      "text/plain": [
       "<keras.callbacks.History at 0x7f9c6a5de700>"
      ]
     },
     "execution_count": 14,
     "metadata": {},
     "output_type": "execute_result"
    }
   ],
   "source": [
    "DigitRecogModel.fit(Xtrain, Ytrain, epochs=13, batch_size = 64)"
   ]
  },
  {
   "cell_type": "code",
   "execution_count": 15,
   "id": "0a98f875",
   "metadata": {},
   "outputs": [
    {
     "name": "stdout",
     "output_type": "stream",
     "text": [
      "438/438 [==============================] - 9s 20ms/step\n"
     ]
    }
   ],
   "source": [
    "pred_raw = DigitRecogModel.predict(Xtest, batch_size = 64)"
   ]
  },
  {
   "cell_type": "code",
   "execution_count": 16,
   "id": "c23b2829",
   "metadata": {},
   "outputs": [
    {
     "name": "stdout",
     "output_type": "stream",
     "text": [
      "[[0 0 1 ... 0 0 0]\n",
      " [1 0 0 ... 0 0 0]\n",
      " [0 0 0 ... 0 0 1]\n",
      " ...\n",
      " [0 0 0 ... 0 0 0]\n",
      " [0 0 0 ... 0 0 1]\n",
      " [0 0 1 ... 0 0 0]]\n",
      "[2 0 9 ... 3 9 2]\n"
     ]
    }
   ],
   "source": [
    "pred_digit = np.zeros((28000,))\n",
    "index = np.zeros((28000,))\n",
    "pred_raw = (pred_raw>0.5)*1\n",
    "# maxval = tf.math.reduce_max(pred_raw, axis = 1)\n",
    "for i in range(28000):\n",
    "    for j in range(10):\n",
    "        if pred_raw[i,j] == 1:\n",
    "            pred_digit[i] = j\n",
    "    index[i] = i+1\n",
    "pred_digit = pred_digit.astype('int64')\n",
    "index = index.astype('int64')\n",
    "print(pred_raw)\n",
    "print(pred_digit)"
   ]
  },
  {
   "cell_type": "code",
   "execution_count": 17,
   "id": "69d099c2",
   "metadata": {},
   "outputs": [
    {
     "name": "stdout",
     "output_type": "stream",
     "text": [
      "       ImageID  Label\n",
      "0            1      2\n",
      "1            2      0\n",
      "2            3      9\n",
      "3            4      9\n",
      "4            5      3\n",
      "...        ...    ...\n",
      "27995    27996      9\n",
      "27996    27997      7\n",
      "27997    27998      3\n",
      "27998    27999      9\n",
      "27999    28000      2\n",
      "\n",
      "[28000 rows x 2 columns]\n"
     ]
    }
   ],
   "source": [
    "data = {\n",
    "    \"ImageID\" : index,\n",
    "    \"Label\" : pred_digit\n",
    "}\n",
    "result = pd.DataFrame(data)\n",
    "result.to_csv('Downloads/KaggleDigitRecognizer.csv', index = False)\n",
    "print(result)"
   ]
  }
 ],
 "metadata": {
  "kernelspec": {
   "display_name": "Python 3 (ipykernel)",
   "language": "python",
   "name": "python3"
  },
  "language_info": {
   "codemirror_mode": {
    "name": "ipython",
    "version": 3
   },
   "file_extension": ".py",
   "mimetype": "text/x-python",
   "name": "python",
   "nbconvert_exporter": "python",
   "pygments_lexer": "ipython3",
   "version": "3.9.12"
  }
 },
 "nbformat": 4,
 "nbformat_minor": 5
}
